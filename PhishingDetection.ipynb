{
  "nbformat": 4,
  "nbformat_minor": 0,
  "metadata": {
    "colab": {
      "name": "PhishingDet1.ipynb",
      "provenance": [],
      "collapsed_sections": []
    },
    "kernelspec": {
      "name": "python3",
      "display_name": "Python 3"
    }
  },
  "cells": [
    {
      "cell_type": "code",
      "metadata": {
        "id": "QGp7SRTOWaCa"
      },
      "source": [
        "phishingTrainPath = \"/content/PhishingTrainData_Claflin.xlsx\"\n",
        "phishingTestPath = \"/content/spamPhishingTestData_Claflin.xlsx\""
      ],
      "execution_count": 15,
      "outputs": []
    },
    {
      "cell_type": "code",
      "metadata": {
        "id": "gJEH7Nl5zVyv"
      },
      "source": [
        "import pandas as pd\n",
        "import numpy as np"
      ],
      "execution_count": 16,
      "outputs": []
    },
    {
      "cell_type": "code",
      "metadata": {
        "colab": {
          "base_uri": "https://localhost:8080/",
          "height": 204
        },
        "id": "oegRmdXEFMec",
        "outputId": "81a9816a-5fda-4cac-fe62-bef05400ec3f"
      },
      "source": [
        "data = pd.read_excel(phishingTrainPath)\n",
        "data.head()"
      ],
      "execution_count": 17,
      "outputs": [
        {
          "output_type": "execute_result",
          "data": {
            "text/html": [
              "<div>\n",
              "<style scoped>\n",
              "    .dataframe tbody tr th:only-of-type {\n",
              "        vertical-align: middle;\n",
              "    }\n",
              "\n",
              "    .dataframe tbody tr th {\n",
              "        vertical-align: top;\n",
              "    }\n",
              "\n",
              "    .dataframe thead th {\n",
              "        text-align: right;\n",
              "    }\n",
              "</style>\n",
              "<table border=\"1\" class=\"dataframe\">\n",
              "  <thead>\n",
              "    <tr style=\"text-align: right;\">\n",
              "      <th></th>\n",
              "      <th>sn</th>\n",
              "      <th>subject</th>\n",
              "      <th>message</th>\n",
              "      <th>target</th>\n",
              "    </tr>\n",
              "  </thead>\n",
              "  <tbody>\n",
              "    <tr>\n",
              "      <th>0</th>\n",
              "      <td>NaN</td>\n",
              "      <td>JOB FORUM : Get Paid to Drive</td>\n",
              "      <td>Company’s Name:\\nHavas Sport And Entertainment...</td>\n",
              "      <td>1</td>\n",
              "    </tr>\n",
              "    <tr>\n",
              "      <th>1</th>\n",
              "      <td>NaN</td>\n",
              "      <td>Mail Serv. shared \"Faculty EvaluaWon Transcrip...</td>\n",
              "      <td>Mail Serv. shared a file with you\\nKindly chec...</td>\n",
              "      <td>1</td>\n",
              "    </tr>\n",
              "    <tr>\n",
              "      <th>2</th>\n",
              "      <td>NaN</td>\n",
              "      <td>GET PAID WHILE DRIVING YOUR CAR.</td>\n",
              "      <td>\\nJOB TITLE:\\n \\nAdverWse While Driving\\n \\n \\...</td>\n",
              "      <td>1</td>\n",
              "    </tr>\n",
              "    <tr>\n",
              "      <th>3</th>\n",
              "      <td>NaN</td>\n",
              "      <td>MICROSOFT 365 MISSED VOICEMAIL IN YOUR MAILBOX</td>\n",
              "      <td>You have a missed voicemail from Guinyard, Rut...</td>\n",
              "      <td>1</td>\n",
              "    </tr>\n",
              "    <tr>\n",
              "      <th>4</th>\n",
              "      <td>NaN</td>\n",
              "      <td>Mrs.Rosa Gomes.</td>\n",
              "      <td>Dear Beloved\\nLife is gradually passing away f...</td>\n",
              "      <td>1</td>\n",
              "    </tr>\n",
              "  </tbody>\n",
              "</table>\n",
              "</div>"
            ],
            "text/plain": [
              "   sn  ... target\n",
              "0 NaN  ...      1\n",
              "1 NaN  ...      1\n",
              "2 NaN  ...      1\n",
              "3 NaN  ...      1\n",
              "4 NaN  ...      1\n",
              "\n",
              "[5 rows x 4 columns]"
            ]
          },
          "metadata": {
            "tags": []
          },
          "execution_count": 17
        }
      ]
    },
    {
      "cell_type": "code",
      "metadata": {
        "colab": {
          "base_uri": "https://localhost:8080/",
          "height": 204
        },
        "id": "7J0eXU-Y7mxS",
        "outputId": "e59714d2-6922-4380-c9fe-b76f7e0c8d3f"
      },
      "source": [
        "data.head()"
      ],
      "execution_count": 18,
      "outputs": [
        {
          "output_type": "execute_result",
          "data": {
            "text/html": [
              "<div>\n",
              "<style scoped>\n",
              "    .dataframe tbody tr th:only-of-type {\n",
              "        vertical-align: middle;\n",
              "    }\n",
              "\n",
              "    .dataframe tbody tr th {\n",
              "        vertical-align: top;\n",
              "    }\n",
              "\n",
              "    .dataframe thead th {\n",
              "        text-align: right;\n",
              "    }\n",
              "</style>\n",
              "<table border=\"1\" class=\"dataframe\">\n",
              "  <thead>\n",
              "    <tr style=\"text-align: right;\">\n",
              "      <th></th>\n",
              "      <th>sn</th>\n",
              "      <th>subject</th>\n",
              "      <th>message</th>\n",
              "      <th>target</th>\n",
              "    </tr>\n",
              "  </thead>\n",
              "  <tbody>\n",
              "    <tr>\n",
              "      <th>0</th>\n",
              "      <td>NaN</td>\n",
              "      <td>JOB FORUM : Get Paid to Drive</td>\n",
              "      <td>Company’s Name:\\nHavas Sport And Entertainment...</td>\n",
              "      <td>1</td>\n",
              "    </tr>\n",
              "    <tr>\n",
              "      <th>1</th>\n",
              "      <td>NaN</td>\n",
              "      <td>Mail Serv. shared \"Faculty EvaluaWon Transcrip...</td>\n",
              "      <td>Mail Serv. shared a file with you\\nKindly chec...</td>\n",
              "      <td>1</td>\n",
              "    </tr>\n",
              "    <tr>\n",
              "      <th>2</th>\n",
              "      <td>NaN</td>\n",
              "      <td>GET PAID WHILE DRIVING YOUR CAR.</td>\n",
              "      <td>\\nJOB TITLE:\\n \\nAdverWse While Driving\\n \\n \\...</td>\n",
              "      <td>1</td>\n",
              "    </tr>\n",
              "    <tr>\n",
              "      <th>3</th>\n",
              "      <td>NaN</td>\n",
              "      <td>MICROSOFT 365 MISSED VOICEMAIL IN YOUR MAILBOX</td>\n",
              "      <td>You have a missed voicemail from Guinyard, Rut...</td>\n",
              "      <td>1</td>\n",
              "    </tr>\n",
              "    <tr>\n",
              "      <th>4</th>\n",
              "      <td>NaN</td>\n",
              "      <td>Mrs.Rosa Gomes.</td>\n",
              "      <td>Dear Beloved\\nLife is gradually passing away f...</td>\n",
              "      <td>1</td>\n",
              "    </tr>\n",
              "  </tbody>\n",
              "</table>\n",
              "</div>"
            ],
            "text/plain": [
              "   sn  ... target\n",
              "0 NaN  ...      1\n",
              "1 NaN  ...      1\n",
              "2 NaN  ...      1\n",
              "3 NaN  ...      1\n",
              "4 NaN  ...      1\n",
              "\n",
              "[5 rows x 4 columns]"
            ]
          },
          "metadata": {
            "tags": []
          },
          "execution_count": 18
        }
      ]
    },
    {
      "cell_type": "code",
      "metadata": {
        "colab": {
          "base_uri": "https://localhost:8080/"
        },
        "id": "Z0OdHVroFPnu",
        "outputId": "9c94485f-69c1-4964-abeb-1f4492ffb900"
      },
      "source": [
        "data = data.drop('sn', axis=1)\n",
        "\n",
        "dataX = data.drop('target', axis=1)\n",
        "subject_data = dataX.drop('message', axis=1)\n",
        "message_data = dataX.drop('subject', axis=1)\n",
        "\n",
        "dataYRaw = data.drop('subject', axis=1)\n",
        "dataY = dataYRaw.drop('message', axis=1)\n",
        "\n",
        "print(data.head())\n",
        "print(dataX.head())\n",
        "print(dataY.head())"
      ],
      "execution_count": 19,
      "outputs": [
        {
          "output_type": "stream",
          "text": [
            "                                             subject  ... target\n",
            "0                      JOB FORUM : Get Paid to Drive  ...      1\n",
            "1  Mail Serv. shared \"Faculty EvaluaWon Transcrip...  ...      1\n",
            "2                   GET PAID WHILE DRIVING YOUR CAR.  ...      1\n",
            "3     MICROSOFT 365 MISSED VOICEMAIL IN YOUR MAILBOX  ...      1\n",
            "4                                    Mrs.Rosa Gomes.  ...      1\n",
            "\n",
            "[5 rows x 3 columns]\n",
            "                                             subject                                            message\n",
            "0                      JOB FORUM : Get Paid to Drive  Company’s Name:\\nHavas Sport And Entertainment...\n",
            "1  Mail Serv. shared \"Faculty EvaluaWon Transcrip...  Mail Serv. shared a file with you\\nKindly chec...\n",
            "2                   GET PAID WHILE DRIVING YOUR CAR.  \\nJOB TITLE:\\n \\nAdverWse While Driving\\n \\n \\...\n",
            "3     MICROSOFT 365 MISSED VOICEMAIL IN YOUR MAILBOX  You have a missed voicemail from Guinyard, Rut...\n",
            "4                                    Mrs.Rosa Gomes.  Dear Beloved\\nLife is gradually passing away f...\n",
            "   target\n",
            "0       1\n",
            "1       1\n",
            "2       1\n",
            "3       1\n",
            "4       1\n"
          ],
          "name": "stdout"
        }
      ]
    },
    {
      "cell_type": "code",
      "metadata": {
        "id": "tBIj5sRXFTW6"
      },
      "source": [
        "# subject_data = dataX.drop('message', axis=1)\n",
        "# message_data = dataX.drop('subject', axis=1)"
      ],
      "execution_count": 20,
      "outputs": []
    },
    {
      "cell_type": "code",
      "metadata": {
        "id": "Zml5hX-WOimQ",
        "colab": {
          "base_uri": "https://localhost:8080/",
          "height": 204
        },
        "outputId": "cab36423-2302-4071-fb0c-278cc439fb82"
      },
      "source": [
        "subject_data.head()"
      ],
      "execution_count": 21,
      "outputs": [
        {
          "output_type": "execute_result",
          "data": {
            "text/html": [
              "<div>\n",
              "<style scoped>\n",
              "    .dataframe tbody tr th:only-of-type {\n",
              "        vertical-align: middle;\n",
              "    }\n",
              "\n",
              "    .dataframe tbody tr th {\n",
              "        vertical-align: top;\n",
              "    }\n",
              "\n",
              "    .dataframe thead th {\n",
              "        text-align: right;\n",
              "    }\n",
              "</style>\n",
              "<table border=\"1\" class=\"dataframe\">\n",
              "  <thead>\n",
              "    <tr style=\"text-align: right;\">\n",
              "      <th></th>\n",
              "      <th>subject</th>\n",
              "    </tr>\n",
              "  </thead>\n",
              "  <tbody>\n",
              "    <tr>\n",
              "      <th>0</th>\n",
              "      <td>JOB FORUM : Get Paid to Drive</td>\n",
              "    </tr>\n",
              "    <tr>\n",
              "      <th>1</th>\n",
              "      <td>Mail Serv. shared \"Faculty EvaluaWon Transcrip...</td>\n",
              "    </tr>\n",
              "    <tr>\n",
              "      <th>2</th>\n",
              "      <td>GET PAID WHILE DRIVING YOUR CAR.</td>\n",
              "    </tr>\n",
              "    <tr>\n",
              "      <th>3</th>\n",
              "      <td>MICROSOFT 365 MISSED VOICEMAIL IN YOUR MAILBOX</td>\n",
              "    </tr>\n",
              "    <tr>\n",
              "      <th>4</th>\n",
              "      <td>Mrs.Rosa Gomes.</td>\n",
              "    </tr>\n",
              "  </tbody>\n",
              "</table>\n",
              "</div>"
            ],
            "text/plain": [
              "                                             subject\n",
              "0                      JOB FORUM : Get Paid to Drive\n",
              "1  Mail Serv. shared \"Faculty EvaluaWon Transcrip...\n",
              "2                   GET PAID WHILE DRIVING YOUR CAR.\n",
              "3     MICROSOFT 365 MISSED VOICEMAIL IN YOUR MAILBOX\n",
              "4                                    Mrs.Rosa Gomes."
            ]
          },
          "metadata": {
            "tags": []
          },
          "execution_count": 21
        }
      ]
    },
    {
      "cell_type": "code",
      "metadata": {
        "id": "DBfkZWL2OoU0",
        "colab": {
          "base_uri": "https://localhost:8080/",
          "height": 204
        },
        "outputId": "1bd75625-4dbe-4be9-eb3b-66c2e22ea6af"
      },
      "source": [
        "message_data.head()"
      ],
      "execution_count": 22,
      "outputs": [
        {
          "output_type": "execute_result",
          "data": {
            "text/html": [
              "<div>\n",
              "<style scoped>\n",
              "    .dataframe tbody tr th:only-of-type {\n",
              "        vertical-align: middle;\n",
              "    }\n",
              "\n",
              "    .dataframe tbody tr th {\n",
              "        vertical-align: top;\n",
              "    }\n",
              "\n",
              "    .dataframe thead th {\n",
              "        text-align: right;\n",
              "    }\n",
              "</style>\n",
              "<table border=\"1\" class=\"dataframe\">\n",
              "  <thead>\n",
              "    <tr style=\"text-align: right;\">\n",
              "      <th></th>\n",
              "      <th>message</th>\n",
              "    </tr>\n",
              "  </thead>\n",
              "  <tbody>\n",
              "    <tr>\n",
              "      <th>0</th>\n",
              "      <td>Company’s Name:\\nHavas Sport And Entertainment...</td>\n",
              "    </tr>\n",
              "    <tr>\n",
              "      <th>1</th>\n",
              "      <td>Mail Serv. shared a file with you\\nKindly chec...</td>\n",
              "    </tr>\n",
              "    <tr>\n",
              "      <th>2</th>\n",
              "      <td>\\nJOB TITLE:\\n \\nAdverWse While Driving\\n \\n \\...</td>\n",
              "    </tr>\n",
              "    <tr>\n",
              "      <th>3</th>\n",
              "      <td>You have a missed voicemail from Guinyard, Rut...</td>\n",
              "    </tr>\n",
              "    <tr>\n",
              "      <th>4</th>\n",
              "      <td>Dear Beloved\\nLife is gradually passing away f...</td>\n",
              "    </tr>\n",
              "  </tbody>\n",
              "</table>\n",
              "</div>"
            ],
            "text/plain": [
              "                                             message\n",
              "0  Company’s Name:\\nHavas Sport And Entertainment...\n",
              "1  Mail Serv. shared a file with you\\nKindly chec...\n",
              "2  \\nJOB TITLE:\\n \\nAdverWse While Driving\\n \\n \\...\n",
              "3  You have a missed voicemail from Guinyard, Rut...\n",
              "4  Dear Beloved\\nLife is gradually passing away f..."
            ]
          },
          "metadata": {
            "tags": []
          },
          "execution_count": 22
        }
      ]
    },
    {
      "cell_type": "code",
      "metadata": {
        "colab": {
          "base_uri": "https://localhost:8080/"
        },
        "id": "HppfJezZK3L_",
        "outputId": "6582e536-0d74-4160-d2e3-3fd188e04711"
      },
      "source": [
        "import nltk\n",
        "nltk.download('stopwords')\n",
        "from nltk.corpus import stopwords\n",
        "stop = stopwords.words('english')"
      ],
      "execution_count": 23,
      "outputs": [
        {
          "output_type": "stream",
          "text": [
            "[nltk_data] Downloading package stopwords to /root/nltk_data...\n",
            "[nltk_data]   Package stopwords is already up-to-date!\n"
          ],
          "name": "stdout"
        }
      ]
    },
    {
      "cell_type": "code",
      "metadata": {
        "id": "mc7mI05PK4CG"
      },
      "source": [
        "def cleanText(messagesColumn):\n",
        "  cleanRow = \"\"\n",
        "  for words in messagesColumn.split():\n",
        "    if len(words) > 2 and words not in stop:\n",
        "      print(words)\n",
        "      cleanRow = cleanRow + \" \" + words\n",
        "  return cleanRow"
      ],
      "execution_count": 24,
      "outputs": []
    },
    {
      "cell_type": "code",
      "metadata": {
        "id": "PL3VGOLcK-LT"
      },
      "source": [
        "cleanSubject = subject_data['subject'].apply(lambda row: cleanText(row))\n",
        "cleanSubject = pd.DataFrame({\"newSubject\": cleanSubject})\n",
        "\n",
        "cleanMessage = message_data['message'].apply(lambda row: cleanText(row))\n",
        "cleanMessage = pd.DataFrame({'newMessage':cleanMessage})\n",
        "\n",
        "# baluwapati deupur 7 kavreplanchowk nagarpalika <3 <3"
      ],
      "execution_count": null,
      "outputs": []
    },
    {
      "cell_type": "code",
      "metadata": {
        "id": "NAjzwvufLCe3",
        "colab": {
          "base_uri": "https://localhost:8080/"
        },
        "outputId": "93bd5eea-b115-4854-83f1-2421ff2bcbd6"
      },
      "source": [
        "from sklearn.feature_extraction.text import CountVectorizer\n",
        "\n",
        "vectorizerSub = CountVectorizer()\n",
        "vectorizerMsg = CountVectorizer()\n",
        "\n",
        "vectorizerSub.fit(cleanSubject['newSubject'])\n",
        "vectorizerMsg.fit(cleanMessage['newMessage'])\n",
        "\n",
        "vectorSubject = vectorizerSub.transform(cleanSubject['newSubject'])\n",
        "vectorMessage = vectorizerMsg.transform(cleanMessage['newMessage'])\n",
        "\n",
        "print(\"line 11: \", vectorSubject.shape, vectorMessage.shape)\n",
        "\n",
        "vectorSubject = vectorSubject.toarray()\n",
        "vectorMessage = vectorMessage.toarray()\n",
        "\n",
        "\n",
        "print(\"line 118: \", vectorSubject.shape, vectorMessage.shape)\n",
        "\n",
        "print(type(vectorSubject))\n",
        "print(type(vectorMessage))\n",
        "\n",
        "x_phishingTrain = np.hstack((vectorSubject, vectorMessage))\n",
        "\n",
        "#commented for now.\n",
        "#print(\"Vector is: \\n \\n \", vector)\n",
        "#vector.shape\n",
        "\n",
        "# print(\"type of vector is: \", type(vector))\n",
        "\n",
        "# x_phishing = vector.toarray()\n",
        "\n",
        "\n",
        "\n",
        "\n",
        "#x_phishing = vector.tolist()\n",
        "\n",
        "# combined = np.hstack((v1, v2))\n",
        "\n",
        "# vectorizer.fit(xClean['newMessage'])\n",
        "# print(vectorizer.vocabulary_)\n",
        "# vector = vectorizer.transform(xClean['newMessage'])\n",
        "# x_value = vector.toarray()\n",
        "\n",
        "# print(vector.shape)\n",
        "# print(vector)\n",
        "# print(type(vector))\n",
        "# print(vector.toarray())\n",
        "# print(\"Shape of matrix\", x_value.shape)\n",
        "# print(x_value[0])"
      ],
      "execution_count": 26,
      "outputs": [
        {
          "output_type": "stream",
          "text": [
            "line 11:  (56, 183) (56, 1527)\n",
            "line 118:  (56, 183) (56, 1527)\n",
            "<class 'numpy.ndarray'>\n",
            "<class 'numpy.ndarray'>\n"
          ],
          "name": "stdout"
        }
      ]
    },
    {
      "cell_type": "code",
      "metadata": {
        "id": "2R61ylK6UNYL"
      },
      "source": [
        "y_phishingTrain = dataY['target']"
      ],
      "execution_count": 27,
      "outputs": []
    },
    {
      "cell_type": "code",
      "metadata": {
        "colab": {
          "base_uri": "https://localhost:8080/"
        },
        "id": "pKop5QV9swpL",
        "outputId": "d2f3011b-7e90-4178-a5ae-542002456025"
      },
      "source": [
        "y_phishingTrain.head()"
      ],
      "execution_count": 28,
      "outputs": [
        {
          "output_type": "execute_result",
          "data": {
            "text/plain": [
              "0    1\n",
              "1    1\n",
              "2    1\n",
              "3    1\n",
              "4    1\n",
              "Name: target, dtype: int64"
            ]
          },
          "metadata": {
            "tags": []
          },
          "execution_count": 28
        }
      ]
    },
    {
      "cell_type": "code",
      "metadata": {
        "id": "A7pSldt-LGF4"
      },
      "source": [
        "# from sklearn.model_selection import train_test_split\n",
        "# x_train, x_test, y_train, y_test = train_test_split(x_value, y_data['target'], test_size=0.1, random_state=42)"
      ],
      "execution_count": 29,
      "outputs": []
    },
    {
      "cell_type": "code",
      "metadata": {
        "id": "ef-dXDAGLIkc"
      },
      "source": [
        "# print(x_train.shape, y_train.shape)\n",
        "# print(x_test.shape, y_test.shape)"
      ],
      "execution_count": 30,
      "outputs": []
    },
    {
      "cell_type": "code",
      "metadata": {
        "id": "U1pJM50mLK8q",
        "colab": {
          "base_uri": "https://localhost:8080/"
        },
        "outputId": "4eb8c8ad-0b9d-4f81-8a48-ee96a1280b0a"
      },
      "source": [
        "from sklearn.linear_model import LogisticRegression\n",
        "from sklearn.model_selection import train_test_split\n",
        "from sklearn.metrics import f1_score, accuracy_score\n",
        "\n",
        "lr = LogisticRegression()\n",
        "lr.fit(x_phishingTrain, y_phishingTrain)\n",
        "\n",
        "# print(\"Predecting training data: \")\n",
        "\n",
        "# predicted = lr.predict(x_train)\n",
        "\n",
        "# print(\"The F1 score is: \", f1_score(predicted, y_train))\n",
        "# print(\"The accuracy score is: \", accuracy_score(predicted, y_train))"
      ],
      "execution_count": 31,
      "outputs": [
        {
          "output_type": "execute_result",
          "data": {
            "text/plain": [
              "LogisticRegression(C=1.0, class_weight=None, dual=False, fit_intercept=True,\n",
              "                   intercept_scaling=1, l1_ratio=None, max_iter=100,\n",
              "                   multi_class='auto', n_jobs=None, penalty='l2',\n",
              "                   random_state=None, solver='lbfgs', tol=0.0001, verbose=0,\n",
              "                   warm_start=False)"
            ]
          },
          "metadata": {
            "tags": []
          },
          "execution_count": 31
        }
      ]
    },
    {
      "cell_type": "code",
      "metadata": {
        "id": "lcNdlVGbeAWR"
      },
      "source": [
        "# Testing part \n",
        "# testing Claflin Emails \n",
        "# test data includes both Spam and non-Spam emails"
      ],
      "execution_count": 32,
      "outputs": []
    },
    {
      "cell_type": "code",
      "metadata": {
        "colab": {
          "base_uri": "https://localhost:8080/",
          "height": 204
        },
        "id": "C-rLwB1BdvD1",
        "outputId": "c6547dec-deaf-427d-fdd9-20d12f55b0fd"
      },
      "source": [
        "# Reading testing data from excel file\n",
        "testData = pd.read_excel(phishingTestPath)\n",
        "testData.head()"
      ],
      "execution_count": 33,
      "outputs": [
        {
          "output_type": "execute_result",
          "data": {
            "text/html": [
              "<div>\n",
              "<style scoped>\n",
              "    .dataframe tbody tr th:only-of-type {\n",
              "        vertical-align: middle;\n",
              "    }\n",
              "\n",
              "    .dataframe tbody tr th {\n",
              "        vertical-align: top;\n",
              "    }\n",
              "\n",
              "    .dataframe thead th {\n",
              "        text-align: right;\n",
              "    }\n",
              "</style>\n",
              "<table border=\"1\" class=\"dataframe\">\n",
              "  <thead>\n",
              "    <tr style=\"text-align: right;\">\n",
              "      <th></th>\n",
              "      <th>subject</th>\n",
              "      <th>message</th>\n",
              "      <th>target</th>\n",
              "    </tr>\n",
              "  </thead>\n",
              "  <tbody>\n",
              "    <tr>\n",
              "      <th>0</th>\n",
              "      <td>NEW INV: 958-496</td>\n",
              "      <td>Good morning,\\nPlease find attache incoming pe...</td>\n",
              "      <td>1</td>\n",
              "    </tr>\n",
              "    <tr>\n",
              "      <th>1</th>\n",
              "      <td>Direct Deposit Authorization.</td>\n",
              "      <td>\\nОт: Юлия Юриста\\nОтправлено: 26 ноября 2019...</td>\n",
              "      <td>1</td>\n",
              "    </tr>\n",
              "    <tr>\n",
              "      <th>2</th>\n",
              "      <td>Part-time/Job Opportunity!!!</td>\n",
              "      <td>Hello,\\nThis Job is currently recruiting.  A J...</td>\n",
              "      <td>1</td>\n",
              "    </tr>\n",
              "    <tr>\n",
              "      <th>3</th>\n",
              "      <td>IMPORTANT</td>\n",
              "      <td>Please carefully read this important message p...</td>\n",
              "      <td>1</td>\n",
              "    </tr>\n",
              "    <tr>\n",
              "      <th>4</th>\n",
              "      <td>Part-time/Job Opportunity!!!</td>\n",
              "      <td>Hello,\\nThis Job is currently recruiting.  A J...</td>\n",
              "      <td>1</td>\n",
              "    </tr>\n",
              "  </tbody>\n",
              "</table>\n",
              "</div>"
            ],
            "text/plain": [
              "                         subject  ... target\n",
              "0               NEW INV: 958-496  ...      1\n",
              "1  Direct Deposit Authorization.  ...      1\n",
              "2   Part-time/Job Opportunity!!!  ...      1\n",
              "3                      IMPORTANT  ...      1\n",
              "4   Part-time/Job Opportunity!!!  ...      1\n",
              "\n",
              "[5 rows x 3 columns]"
            ]
          },
          "metadata": {
            "tags": []
          },
          "execution_count": 33
        }
      ]
    },
    {
      "cell_type": "code",
      "metadata": {
        "id": "0VEG_QzdfZtA"
      },
      "source": [
        "# Extracting testing dataset into respective subsections/lists\n",
        "\n",
        "testDataX = testData.drop('target', axis=1)\n",
        "testSubjectData = testDataX.drop('message', axis=1)\n",
        "testMessageData = testDataX.drop('subject', axis=1)\n",
        "\n",
        "testRawY = testData.drop('subject', axis=1)\n",
        "testDataY = testRawY.drop('message', axis=1)\n"
      ],
      "execution_count": 34,
      "outputs": []
    },
    {
      "cell_type": "code",
      "metadata": {
        "id": "PB_e9vdDgr_h"
      },
      "source": [
        "# print(testSubjectData.head())\n",
        "# print(testMessageData.head())\n",
        "# print(testDataY.head())"
      ],
      "execution_count": 35,
      "outputs": []
    },
    {
      "cell_type": "code",
      "metadata": {
        "id": "vA-Ted39hlgA"
      },
      "source": [
        "# Cleaning testing dataset\n",
        "\n",
        "cleanTestSubject = testSubjectData['subject'].apply(lambda row: cleanText(row))\n",
        "cleanTestSubject = pd.DataFrame({'newSubject': cleanTestSubject})\n",
        "\n",
        "cleanTestMessage = testMessageData['message'].apply(lambda row: cleanText(row))\n",
        "cleanTestMessage = pd.DataFrame({\"newMessage\": cleanTestMessage})"
      ],
      "execution_count": null,
      "outputs": []
    },
    {
      "cell_type": "code",
      "metadata": {
        "id": "ePPz9w3jlON-"
      },
      "source": [
        "# Vectorizing testing dataset\n",
        "\n",
        "vectorTestSub = vectorizerSub.transform(cleanTestSubject['newSubject'])\n",
        "vectorTestMsg = vectorizerMsg.transform(cleanTestMessage['newMessage'])\n",
        "\n",
        "vectorTestSub = vectorTestSub.toarray()\n",
        "vectorTestMsg = vectorTestMsg.toarray()\n",
        "\n",
        "x_phishingTest = np.hstack((vectorTestSub, vectorTestMsg))\n",
        "y_phishingTest = testDataY['target']"
      ],
      "execution_count": 37,
      "outputs": []
    },
    {
      "cell_type": "code",
      "metadata": {
        "colab": {
          "base_uri": "https://localhost:8080/"
        },
        "id": "ke33WYydmQU-",
        "outputId": "60fc3ec4-d014-4f7f-b024-09fb3eb6f45d"
      },
      "source": [
        "print(\"Predecting Claflin's phishing email data by Linear Regression: \\n\")\n",
        "\n",
        "predicted = lr.predict(x_phishingTest)\n",
        "\n",
        "print(\"The F1 score is: \", f1_score(predicted, y_phishingTest))\n",
        "print(\"The accuracy score is: \", accuracy_score(predicted, y_phishingTest))"
      ],
      "execution_count": 38,
      "outputs": [
        {
          "output_type": "stream",
          "text": [
            "Predecting Claflin's phishing email data by Linear Regression: \n",
            "\n",
            "The F1 score is:  0.7692307692307692\n",
            "The accuracy score is:  0.775\n"
          ],
          "name": "stdout"
        }
      ]
    },
    {
      "cell_type": "code",
      "metadata": {
        "colab": {
          "base_uri": "https://localhost:8080/",
          "height": 320
        },
        "id": "NUc5g7PnFsHO",
        "outputId": "76295f29-644e-4d31-e3ad-11700f44690b"
      },
      "source": [
        "from sklearn.metrics import confusion_matrix\n",
        "import seaborn as sns\n",
        "\n",
        "cf_matrix = confusion_matrix(y_phishingTest, predicted)\n",
        "print(cf_matrix)\n",
        "\n",
        "sns.heatmap(cf_matrix, annot=True)"
      ],
      "execution_count": 39,
      "outputs": [
        {
          "output_type": "stream",
          "text": [
            "[[16  4]\n",
            " [ 5 15]]\n"
          ],
          "name": "stdout"
        },
        {
          "output_type": "execute_result",
          "data": {
            "text/plain": [
              "<matplotlib.axes._subplots.AxesSubplot at 0x7fd2b822fc10>"
            ]
          },
          "metadata": {
            "tags": []
          },
          "execution_count": 39
        },
        {
          "output_type": "display_data",
          "data": {
            "image/png": "[encoded data removed]",
            "text/plain": [
              "<Figure size 432x288 with 2 Axes>"
            ]
          },
          "metadata": {
            "tags": [],
            "needs_background": "light"
          }
        }
      ]
    }
  ]
}